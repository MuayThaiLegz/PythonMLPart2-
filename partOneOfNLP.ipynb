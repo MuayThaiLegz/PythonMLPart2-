{
 "cells": [
  {
   "cell_type": "code",
   "execution_count": 2,
   "metadata": {},
   "outputs": [],
   "source": [
    "import warnings\n",
    "warnings.filterwarnings('ignore')\n"
   ]
  },
  {
   "cell_type": "code",
   "execution_count": 3,
   "metadata": {},
   "outputs": [],
   "source": [
    "# Data collection and cleaning/prep"
   ]
  },
  {
   "cell_type": "code",
   "execution_count": 4,
   "metadata": {},
   "outputs": [],
   "source": [
    "%matplotlib inline\n",
    "import sys\n",
    "from pathlib import Path\n",
    "\n",
    "import pandas as pd\n",
    "\n",
    "import spacy\n",
    "from spacy import displacy\n",
    "from textacy.extract import ngrams, entities\n",
    "\n",
    "import numpy as np\n",
    "import re\n",
    "import pandas as pd\n",
    "\n",
    "\n",
    "# Visualization\n",
    "import matplotlib.pyplot as plt\n",
    "import seaborn as sns\n",
    "\n",
    "# spacy, textblob and nltk for language processing\n",
    "from textblob import TextBlob, Word\n",
    "import nltk\n",
    "from nltk.stem.snowball import SnowballStemmer\n",
    "\n",
    "# sklearn for feature extraction & modeling\n",
    "from sklearn.feature_extraction.text import CountVectorizer\n",
    "import nltk"
   ]
  },
  {
   "cell_type": "code",
   "execution_count": 5,
   "metadata": {},
   "outputs": [
    {
     "name": "stderr",
     "output_type": "stream",
     "text": [
      "[nltk_data] Downloading package wordnet to\n",
      "[nltk_data]     C:\\Users\\JBarr\\AppData\\Roaming\\nltk_data...\n",
      "[nltk_data]   Package wordnet is already up-to-date!\n",
      "[nltk_data] Downloading package punkt to\n",
      "[nltk_data]     C:\\Users\\JBarr\\AppData\\Roaming\\nltk_data...\n",
      "[nltk_data]   Package punkt is already up-to-date!\n",
      "[nltk_data] Downloading package omw-1.4 to\n",
      "[nltk_data]     C:\\Users\\JBarr\\AppData\\Roaming\\nltk_data...\n"
     ]
    },
    {
     "data": {
      "text/plain": [
       "True"
      ]
     },
     "execution_count": 5,
     "metadata": {},
     "output_type": "execute_result"
    }
   ],
   "source": [
    "\n",
    "\n",
    "nltk.download('wordnet')\n",
    "\n",
    "nlp = spacy.load('en_core_web_lg') \n",
    "\n",
    "DATA_DIR = Path('data')\n",
    "\n",
    "Label_movie_data = pd.read_csv('movie_data.csv')\n",
    "\n",
    "nltk.download('punkt')\n",
    "\n",
    "nltk.download('omw-1.4')"
   ]
  },
  {
   "cell_type": "code",
   "execution_count": 6,
   "metadata": {},
   "outputs": [],
   "source": [
    "\n",
    "Unlabel_earningsWords = pd.read_csv('earningsWords.csv')\n",
    "\n",
    "Unlabel_earningsWords = Unlabel_earningsWords[['Ticker','article']]\n",
    "\n",
    "Group_earningsWords = Unlabel_earningsWords.groupby(['Ticker', 'article']).max()\n",
    "\n",
    "\n",
    "# ---->  works \n",
    "\n",
    "Zxearnings = str(Group_earningsWords.loc['Zx'].index)\n",
    "\n",
    "\n",
    "\n",
    "filesE = (DATA_DIR / 'earnings_calls').glob('**/*.csv')\n",
    "comp_eranings = ''\n",
    "for i, fileE in enumerate(filesE):\n",
    "    with fileE.open(encoding='latin1') as f:\n",
    "        lines = f.readlines()\n",
    "        body = ' '.join([l.strip() for l in lines[1:]]).strip()\n",
    "        comp_eranings += body\n",
    "        \n",
    "        \n",
    "        \n",
    "earnsText = comp_eranings[:55000]     \n"
   ]
  },
  {
   "cell_type": "code",
   "execution_count": 7,
   "metadata": {},
   "outputs": [
    {
     "name": "stdout",
     "output_type": "stream",
     "text": [
      "<class 'pandas.core.frame.DataFrame'>\n",
      "RangeIndex: 2225 entries, 0 to 2224\n",
      "Data columns (total 3 columns):\n",
      " #   Column   Non-Null Count  Dtype \n",
      "---  ------   --------------  ----- \n",
      " 0   topic    2225 non-null   object\n",
      " 1   heading  2225 non-null   object\n",
      " 2   body     2225 non-null   object\n",
      "dtypes: object(3)\n",
      "memory usage: 52.3+ KB\n"
     ]
    }
   ],
   "source": [
    "\n",
    "\n",
    "files = (DATA_DIR / 'bbc').glob('**/*.txt')\n",
    "bbc_articles = []\n",
    "for i, file in enumerate(sorted(list(files))):\n",
    "    with file.open(encoding='latin1') as f:\n",
    "        lines = f.readlines()\n",
    "        body = ' '.join([l.strip() for l in lines[1:]]).strip()\n",
    "        bbc_articles.append(body)\n",
    "        \n",
    "        \n",
    "        \n",
    "path = Path('data', 'bbc')\n",
    "files = sorted(list(path.glob('**/*.txt')))\n",
    "doc_list = []\n",
    "for i, file in enumerate(files):\n",
    "    topic = file.parts[-2]\n",
    "    article = file.read_text(encoding='latin1').split('\\n')\n",
    "    heading = article[0].strip()\n",
    "    body = ' '.join([l.strip() for l in article[1:]]).strip()\n",
    "    doc_list.append([topic, heading, body])\n",
    "    \n",
    "\n",
    "\n",
    "docs = pd.DataFrame(doc_list, columns=['topic', 'heading', 'body'])\n",
    "docs.info()            "
   ]
  },
  {
   "cell_type": "code",
   "execution_count": null,
   "metadata": {},
   "outputs": [],
   "source": []
  },
  {
   "cell_type": "code",
   "execution_count": 8,
   "metadata": {},
   "outputs": [
    {
     "name": "stdout",
     "output_type": "stream",
     "text": [
      "Topic:\tBusiness\n",
      "\n",
      "German economy rebounds\n",
      "\n",
      "Germany's economy, the biggest among the 12 countries sharing the euro, grew at its fastest rate in four years during 2004, driven by strong exports.  Gross domestic product (GDP) rose by 1.7% last year, the statistical office said. The economy contracted in 2003. Foreign sales increased by 8.2% last year, compared with a 0.3% slide in private consumption. Concerns remain, however, over the strength of the euro, weak domestic demand and a sluggish labour market. The European Central Bank (ECB) left its benchmark interest rate unchanged at 2% on Thursday. It is the nineteenth month in a row that the ECB has not moved borrowing costs. Economists predict that an increase is unlikely to come until the second half of 2005, with growth set to sputter rather than ignite.  \"During 2004 we profited from the fact that the world economy was strong,\" said Stefan Schilbe, analyst at HSBC Trinkaus & Burkhardt. \"If exports weaken and domestic growth remains poor, we cannot expect much from 2005.\" Many German consumers have been spooked and unsettled by government attempts to reform the welfare state and corporate environment. Major companies including Volkswagen, DaimlerChrysler and Siemens have spent much of 2004 in tough talks with unions about trimming jobs and costs. They have also warned there are more cost cutting measures on the horizon.\n"
     ]
    },
    {
     "data": {
      "text/plain": [
       "None"
      ]
     },
     "metadata": {},
     "output_type": "display_data"
    },
    {
     "data": {
      "text/plain": [
       "None"
      ]
     },
     "metadata": {},
     "output_type": "display_data"
    },
    {
     "data": {
      "text/plain": [
       "WordList(['Germany', \"'s\", 'economy', 'the', 'biggest', 'among', 'the', '12', 'countries', 'sharing', 'the', 'euro', 'grew', 'at', 'its', 'fastest', 'rate', 'in', 'four', 'years', 'during', '2004', 'driven', 'by', 'strong', 'exports', 'Gross', 'domestic', 'product', 'GDP', 'rose', 'by', '1.7', 'last', 'year', 'the', 'statistical', 'office', 'said', 'The', 'economy', 'contracted', 'in', '2003', 'Foreign', 'sales', 'increased', 'by', '8.2', 'last', 'year', 'compared', 'with', 'a', '0.3', 'slide', 'in', 'private', 'consumption', 'Concerns', 'remain', 'however', 'over', 'the', 'strength', 'of', 'the', 'euro', 'weak', 'domestic', 'demand', 'and', 'a', 'sluggish', 'labour', 'market', 'The', 'European', 'Central', 'Bank', 'ECB', 'left', 'its', 'benchmark', 'interest', 'rate', 'unchanged', 'at', '2', 'on', 'Thursday', 'It', 'is', 'the', 'nineteenth', 'month', 'in', 'a', 'row', 'that', 'the', 'ECB', 'has', 'not', 'moved', 'borrowing', 'costs', 'Economists', 'predict', 'that', 'an', 'increase', 'is', 'unlikely', 'to', 'come', 'until', 'the', 'second', 'half', 'of', '2005', 'with', 'growth', 'set', 'to', 'sputter', 'rather', 'than', 'ignite', 'During', '2004', 'we', 'profited', 'from', 'the', 'fact', 'that', 'the', 'world', 'economy', 'was', 'strong', 'said', 'Stefan', 'Schilbe', 'analyst', 'at', 'HSBC', 'Trinkaus', 'Burkhardt', 'If', 'exports', 'weaken', 'and', 'domestic', 'growth', 'remains', 'poor', 'we', 'can', 'not', 'expect', 'much', 'from', '2005', 'Many', 'German', 'consumers', 'have', 'been', 'spooked', 'and', 'unsettled', 'by', 'government', 'attempts', 'to', 'reform', 'the', 'welfare', 'state', 'and', 'corporate', 'environment', 'Major', 'companies', 'including', 'Volkswagen', 'DaimlerChrysler', 'and', 'Siemens', 'have', 'spent', 'much', 'of', '2004', 'in', 'tough', 'talks', 'with', 'unions', 'about', 'trimming', 'jobs', 'and', 'costs', 'They', 'have', 'also', 'warned', 'there', 'are', 'more', 'cost', 'cutting', 'measures', 'on', 'the', 'horizon'])"
      ]
     },
     "metadata": {},
     "output_type": "display_data"
    },
    {
     "data": {
      "text/plain": [
       "[Sentence(\"Germany's economy, the biggest among the 12 countries sharing the euro, grew at its fastest rate in four years during 2004, driven by strong exports.\"),\n",
       " Sentence(\"Gross domestic product (GDP) rose by 1.7% last year, the statistical office said.\"),\n",
       " Sentence(\"The economy contracted in 2003.\"),\n",
       " Sentence(\"Foreign sales increased by 8.2% last year, compared with a 0.3% slide in private consumption.\"),\n",
       " Sentence(\"Concerns remain, however, over the strength of the euro, weak domestic demand and a sluggish labour market.\"),\n",
       " Sentence(\"The European Central Bank (ECB) left its benchmark interest rate unchanged at 2% on Thursday.\"),\n",
       " Sentence(\"It is the nineteenth month in a row that the ECB has not moved borrowing costs.\"),\n",
       " Sentence(\"Economists predict that an increase is unlikely to come until the second half of 2005, with growth set to sputter rather than ignite.\"),\n",
       " Sentence(\"\"During 2004 we profited from the fact that the world economy was strong,\" said Stefan Schilbe, analyst at HSBC Trinkaus & Burkhardt.\"),\n",
       " Sentence(\"\"If exports weaken and domestic growth remains poor, we cannot expect much from 2005.\"\"),\n",
       " Sentence(\"Many German consumers have been spooked and unsettled by government attempts to reform the welfare state and corporate environment.\"),\n",
       " Sentence(\"Major companies including Volkswagen, DaimlerChrysler and Siemens have spent much of 2004 in tough talks with unions about trimming jobs and costs.\"),\n",
       " Sentence(\"They have also warned there are more cost cutting measures on the horizon.\")]"
      ]
     },
     "metadata": {},
     "output_type": "display_data"
    }
   ],
   "source": [
    "article = docs.sample(1).squeeze()\n",
    "\n",
    "\n",
    "parsed_body = TextBlob(article.body)\n",
    "\n",
    "\n",
    "\n",
    "display(print(f'Topic:\\t{article.topic.capitalize()}\\n\\n{article.heading}\\n'),\n",
    "print(article.body.strip()),\n",
    "\n",
    "    parsed_body.words, \n",
    "        parsed_body.sentences)"
   ]
  },
  {
   "cell_type": "code",
   "execution_count": 9,
   "metadata": {},
   "outputs": [
    {
     "data": {
      "text/plain": [
       "[('Germany', 'germani'),\n",
       " ('economy', 'economi'),\n",
       " ('countries', 'countri'),\n",
       " ('sharing', 'share'),\n",
       " ('its', 'it'),\n",
       " ('years', 'year'),\n",
       " ('during', 'dure'),\n",
       " ('exports', 'export'),\n",
       " ('domestic', 'domest'),\n",
       " ('statistical', 'statist'),\n",
       " ('office', 'offic'),\n",
       " ('economy', 'economi'),\n",
       " ('contracted', 'contract'),\n",
       " ('sales', 'sale'),\n",
       " ('increased', 'increas'),\n",
       " ('compared', 'compar'),\n",
       " ('private', 'privat'),\n",
       " ('consumption', 'consumpt'),\n",
       " ('Concerns', 'concern'),\n",
       " ('however', 'howev'),\n",
       " ('domestic', 'domest'),\n",
       " ('its', 'it'),\n",
       " ('unchanged', 'unchang'),\n",
       " ('moved', 'move'),\n",
       " ('borrowing', 'borrow'),\n",
       " ('costs', 'cost'),\n",
       " ('Economists', 'economist'),\n",
       " ('increase', 'increas'),\n",
       " ('unlikely', 'unlik'),\n",
       " ('ignite', 'ignit'),\n",
       " ('During', 'dure'),\n",
       " ('profited', 'profit'),\n",
       " ('economy', 'economi'),\n",
       " ('Schilbe', 'schilb'),\n",
       " ('exports', 'export'),\n",
       " ('domestic', 'domest'),\n",
       " ('remains', 'remain'),\n",
       " ('Many', 'mani'),\n",
       " ('consumers', 'consum'),\n",
       " ('spooked', 'spook'),\n",
       " ('unsettled', 'unsettl'),\n",
       " ('government', 'govern'),\n",
       " ('attempts', 'attempt'),\n",
       " ('welfare', 'welfar'),\n",
       " ('corporate', 'corpor'),\n",
       " ('environment', 'environ'),\n",
       " ('companies', 'compani'),\n",
       " ('including', 'includ'),\n",
       " ('DaimlerChrysler', 'daimlerchrysl'),\n",
       " ('Siemens', 'siemen'),\n",
       " ('talks', 'talk'),\n",
       " ('unions', 'union'),\n",
       " ('trimming', 'trim'),\n",
       " ('jobs', 'job'),\n",
       " ('costs', 'cost'),\n",
       " ('warned', 'warn'),\n",
       " ('cutting', 'cut'),\n",
       " ('measures', 'measur')]"
      ]
     },
     "execution_count": 9,
     "metadata": {},
     "output_type": "execute_result"
    }
   ],
   "source": [
    "# Initialize stemmer.\n",
    "stemmer = SnowballStemmer('english')\n",
    "\n",
    "# Stem each word.\n",
    "[(word, stemmer.stem(word)) for i, word in enumerate(parsed_body.words) \n",
    " if word.lower() != stemmer.stem(parsed_body.words[i])]"
   ]
  },
  {
   "cell_type": "code",
   "execution_count": 10,
   "metadata": {},
   "outputs": [
    {
     "data": {
      "text/plain": [
       "[('countries', 'country'),\n",
       " ('its', 'it'),\n",
       " ('years', 'year'),\n",
       " ('exports', 'export'),\n",
       " ('sales', 'sale'),\n",
       " ('its', 'it'),\n",
       " ('has', 'ha'),\n",
       " ('costs', 'cost'),\n",
       " ('was', 'wa'),\n",
       " ('exports', 'export'),\n",
       " ('consumers', 'consumer'),\n",
       " ('attempts', 'attempt'),\n",
       " ('companies', 'company'),\n",
       " ('talks', 'talk'),\n",
       " ('unions', 'union'),\n",
       " ('jobs', 'job'),\n",
       " ('costs', 'cost'),\n",
       " ('measures', 'measure')]"
      ]
     },
     "execution_count": 10,
     "metadata": {},
     "output_type": "execute_result"
    }
   ],
   "source": [
    "[(word, word.lemmatize()) for i, word in enumerate(parsed_body.words) \n",
    " if word != parsed_body.words[i].lemmatize()]\n"
   ]
  },
  {
   "cell_type": "code",
   "execution_count": 15,
   "metadata": {},
   "outputs": [
    {
     "data": {
      "text/plain": [
       "[('sharing', 'share'),\n",
       " ('grew', 'grow'),\n",
       " ('driven', 'drive'),\n",
       " ('exports', 'export'),\n",
       " ('rose', 'rise'),\n",
       " ('said', 'say'),\n",
       " ('contracted', 'contract'),\n",
       " ('increased', 'increase'),\n",
       " ('compared', 'compare'),\n",
       " ('left', 'leave'),\n",
       " ('is', 'be'),\n",
       " ('has', 'have'),\n",
       " ('moved', 'move'),\n",
       " ('borrowing', 'borrow'),\n",
       " ('costs', 'cost'),\n",
       " ('is', 'be'),\n",
       " ('profited', 'profit'),\n",
       " ('was', 'be'),\n",
       " ('said', 'say'),\n",
       " ('exports', 'export'),\n",
       " ('remains', 'remain'),\n",
       " ('been', 'be'),\n",
       " ('spooked', 'spook'),\n",
       " ('unsettled', 'unsettle'),\n",
       " ('attempts', 'attempt'),\n",
       " ('companies', 'company'),\n",
       " ('including', 'include'),\n",
       " ('spent', 'spend'),\n",
       " ('talks', 'talk'),\n",
       " ('trimming', 'trim'),\n",
       " ('jobs', 'job'),\n",
       " ('costs', 'cost'),\n",
       " ('warned', 'warn'),\n",
       " ('are', 'be'),\n",
       " ('cutting', 'cut'),\n",
       " ('measures', 'measure')]"
      ]
     },
     "execution_count": 15,
     "metadata": {},
     "output_type": "execute_result"
    }
   ],
   "source": [
    "[(word, word.lemmatize(pos='v')) for i, word in enumerate(parsed_body.words) \n",
    " if word != parsed_body.words[i].lemmatize(pos='v')]"
   ]
  },
  {
   "cell_type": "code",
   "execution_count": 16,
   "metadata": {},
   "outputs": [
    {
     "data": {
      "text/plain": [
       "Sentiment(polarity=0.009434865900383142, subjectivity=0.31810344827586207)"
      ]
     },
     "execution_count": 16,
     "metadata": {},
     "output_type": "execute_result"
    }
   ],
   "source": [
    "parsed_body.sentiment"
   ]
  },
  {
   "cell_type": "code",
   "execution_count": 18,
   "metadata": {},
   "outputs": [
    {
     "data": {
      "text/plain": [
       "Sentiment(polarity=0.009434865900383142, subjectivity=0.31810344827586207, assessments=[(['strong'], 0.4333333333333333, 0.7333333333333333, None), (['gross'], 0.0, 0.0, None), (['domestic'], 0.0, 0.1, None), (['rose'], 0.6, 0.95, None), (['last'], 0.0, 0.06666666666666667, None), (['foreign'], -0.125, 0.125, None), (['last'], 0.0, 0.06666666666666667, None), (['private'], 0.0, 0.375, None), (['weak'], -0.375, 0.625, None), (['domestic'], 0.0, 0.1, None), (['european'], 0.0, 0.0, None), (['central'], 0.0, 0.25, None), (['left'], 0.0, 0.0, None), (['unlikely'], -0.5, 0.5, None), (['second'], 0.0, 0.0, None), (['half'], -0.16666666666666666, 0.16666666666666666, None), (['strong'], 0.4333333333333333, 0.7333333333333333, None), (['domestic'], 0.0, 0.1, None), (['poor'], -0.4, 0.6, None), (['much'], 0.2, 0.2, None), (['many'], 0.5, 0.5, None), (['german'], 0.0, 0.0, None), (['corporate'], 0.0, 0.0, None), (['major'], 0.0625, 0.5, None), (['spent'], -0.1, 0.1, None), (['much'], 0.2, 0.2, None), (['tough'], -0.3888888888888889, 0.8333333333333334, None), (['more'], 0.5, 0.5, None), (['cutting'], -0.6, 0.9, None)])"
      ]
     },
     "execution_count": 18,
     "metadata": {},
     "output_type": "execute_result"
    }
   ],
   "source": [
    "parsed_body.sentiment_assessments\n"
   ]
  },
  {
   "cell_type": "code",
   "execution_count": 19,
   "metadata": {},
   "outputs": [],
   "source": [
    "def lemmatizer(text):\n",
    "    words = TextBlob(text.lower()).words\n",
    "    return [word.lemmatize() for word in words]\n",
    "\n",
    "\n",
    "vectorizer = CountVectorizer(analyzer=lemmatizer, decode_error='replace')"
   ]
  },
  {
   "cell_type": "code",
   "execution_count": null,
   "metadata": {},
   "outputs": [],
   "source": []
  },
  {
   "cell_type": "code",
   "execution_count": 11,
   "metadata": {},
   "outputs": [],
   "source": [
    "def get_attributes(f):\n",
    "    print([a for a in dir(f) if not a.startswith('_')], end=' ')"
   ]
  },
  {
   "cell_type": "code",
   "execution_count": 12,
   "metadata": {},
   "outputs": [
    {
     "data": {
      "text/plain": [
       "[Quarterly profits at US media giant TimeWarner jumped 76% to $1.13bn (Â£600m) for the three months to December, from $639m year-earlier.  ,\n",
       " The firm, which is now one of the biggest investors in Google, benefited from sales of high-speed internet connections and higher advert sales.,\n",
       " TimeWarner said fourth quarter sales rose 2% to $11.1bn from $10.9bn.]"
      ]
     },
     "execution_count": 12,
     "metadata": {},
     "output_type": "execute_result"
    }
   ],
   "source": [
    "doc = nlp(bbc_articles[0])\n",
    "\n",
    "\n",
    "sentences = [s for s in doc.sents]\n",
    "sentences[:3]"
   ]
  },
  {
   "cell_type": "code",
   "execution_count": 13,
   "metadata": {},
   "outputs": [],
   "source": [
    "docTwo = nlp(Zxearnings)\n",
    "sentencesTwo = [s for s in docTwo.sents]\n",
    "tunkofearnings = sentencesTwo[24:110]"
   ]
  },
  {
   "cell_type": "code",
   "execution_count": null,
   "metadata": {},
   "outputs": [],
   "source": []
  },
  {
   "cell_type": "code",
   "execution_count": 14,
   "metadata": {},
   "outputs": [
    {
     "data": {
      "text/plain": [
       "0     So, let me start with the brief discussion on ...\n",
       "1     For the third quarter of 2018 China's GDP grow...\n",
       "2     This slower GDP growth was the weakest growth ...\n",
       "3     Industrial production in the month of Septembe...\n",
       "4     According the data reported by the China Assoc...\n",
       "                            ...                        \n",
       "81    Basic and diluted earnings per ordinary share ...\n",
       "82    Now for our balance sheet as of September 30, ...\n",
       "83    Pledged deposits were RMB37.7 million or US$5....\n",
       "84    For the bank borrowings were RMB558 million or...\n",
       "85    Total equity attributable to owners of the com...\n",
       "Length: 86, dtype: object"
      ]
     },
     "execution_count": 14,
     "metadata": {},
     "output_type": "execute_result"
    }
   ],
   "source": [
    "\n",
    "pd.Series([token.text for token in tunkofearnings])"
   ]
  },
  {
   "cell_type": "code",
   "execution_count": null,
   "metadata": {},
   "outputs": [],
   "source": []
  },
  {
   "cell_type": "code",
   "execution_count": 283,
   "metadata": {},
   "outputs": [
    {
     "data": {
      "text/plain": [
       "Zenix Auto            10\n",
       "looking statements     7\n",
       "September 30           7\n",
       "aluminum wheel         7\n",
       "unit sales             7\n",
       "                      ..\n",
       "Steel Wheel            1\n",
       "Net loss               1\n",
       "commercial vehicle     1\n",
       "Tubed steel            1\n",
       "total unit             1\n",
       "Length: 142, dtype: int64"
      ]
     },
     "execution_count": 283,
     "metadata": {},
     "output_type": "execute_result"
    }
   ],
   "source": [
    "pd.Series([n.text for n in ngrams(docTwo, n=2, min_freq=2)]).value_counts()"
   ]
  }
 ],
 "metadata": {
  "kernelspec": {
   "display_name": "Python 3.8.13 ('blockchainDev')",
   "language": "python",
   "name": "python3"
  },
  "language_info": {
   "codemirror_mode": {
    "name": "ipython",
    "version": 3
   },
   "file_extension": ".py",
   "mimetype": "text/x-python",
   "name": "python",
   "nbconvert_exporter": "python",
   "pygments_lexer": "ipython3",
   "version": "3.8.13"
  },
  "orig_nbformat": 4,
  "vscode": {
   "interpreter": {
    "hash": "1e9c44cc3bc95fb73b0aae724063041b6d6060f5ce93be071123fdfeed5e731e"
   }
  }
 },
 "nbformat": 4,
 "nbformat_minor": 2
}
